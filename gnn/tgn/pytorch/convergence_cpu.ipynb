{
 "cells": [
  {
   "cell_type": "markdown",
   "metadata": {},
   "source": [
    "Copyright (c) 2022 Graphcore Ltd. All rights reserved."
   ]
  },
  {
   "cell_type": "code",
   "execution_count": 10,
   "metadata": {},
   "outputs": [],
   "source": [
    "from tgn_modules import TGN, Data\n",
    "import torch\n",
    "import poptorch\n",
    "from tqdm import tqdm\n",
    "import time, pickle\n",
    "\n",
    "data_path = 'data/JODIE'\n",
    "data = Data(data_path, torch.float32)\n",
    "run_on = 'CPU'\n",
    "\n",
    "memory_dim = time_dim = embedding_dim = 100\n",
    "raw_msg_dim = 172\n",
    "num_nodes = 9227\n",
    "\n",
    "model = TGN(\n",
    "    num_nodes,\n",
    "    raw_msg_dim,\n",
    "    memory_dim,\n",
    "    time_dim,\n",
    "    embedding_dim,\n",
    "    dtype=torch.float32,\n",
    ")\n",
    "\n",
    "model.train()\n",
    "\n",
    "if run_on == 'IPU':\n",
    "    optim = poptorch.optim.Adam(model.parameters(), lr=1e-4)\n",
    "    model = poptorch.trainingModel(model, optimizer=optim)\n",
    "else:\n",
    "    optim = torch.optim.Adam(model.parameters(), lr=1e-4)\n"
   ]
  },
  {
   "cell_type": "code",
   "execution_count": 11,
   "metadata": {},
   "outputs": [],
   "source": [
    "import copy, pickle\n",
    "\n",
    "orig_params = copy.deepcopy(dict(list(model.named_parameters())))   \n",
    "pickle.dump(orig_params, open(\"/tmp/cpu_ini_params.pkl\", \"wb\"))"
   ]
  },
  {
   "cell_type": "code",
   "execution_count": 13,
   "metadata": {},
   "outputs": [],
   "source": [
    "from tgn_test import recursive_get\n",
    "\n",
    "ipu_ini_params = pickle.load(open(\"/tmp/ipu_ini_params.pkl\", \"rb\"))\n",
    "\n",
    "for name, param in model.named_parameters():\n",
    "    splits = name.split(\".\")\n",
    "    obj_name, param_name = \".\".join(splits[:-1]), splits[-1]\n",
    "    full_name = \".\".join([obj_name, param_name])\n",
    "    from_param = ipu_ini_params[full_name]\n",
    "    setattr(recursive_get(model, obj_name), param_name, from_param)\n",
    "    #print(\"Copied \" + full_name)\n"
   ]
  },
  {
   "cell_type": "code",
   "execution_count": 14,
   "metadata": {},
   "outputs": [
    {
     "data": {
      "text/plain": [
       "Parameter containing:\n",
       "tensor([-0.7397,  0.2817,  0.3520,  0.9623, -0.1636, -0.9807,  0.8095,  0.2811,\n",
       "         0.4082,  0.1483, -0.8273,  0.1099, -0.1908, -0.1715, -0.4458,  0.0576,\n",
       "        -0.5146,  0.8772,  0.1659,  0.5032,  0.3383, -0.0848,  0.4635, -0.3792,\n",
       "        -0.5816,  0.3672, -0.2853, -0.1377,  0.7425,  0.6891, -0.9273, -0.4603,\n",
       "        -0.9612,  0.7262,  0.6213, -0.1404, -0.4877, -0.7073, -0.7684, -0.0055,\n",
       "         0.2507,  0.6931, -0.5887,  0.2587, -0.8217, -0.6690,  0.0972,  0.5272,\n",
       "         0.8913,  0.2911, -0.3270,  0.6427, -0.9082, -0.1520, -0.5832,  0.7577,\n",
       "         0.6893, -0.5333,  0.7599,  0.9738, -0.7304, -0.3465, -0.6661, -0.6086,\n",
       "         0.8264,  0.8913, -0.8410, -0.9594,  0.1996,  0.4596, -0.4624, -0.8702,\n",
       "         0.0460, -0.6078,  0.4202,  0.8099,  0.2462,  0.8838, -0.3461,  0.1081,\n",
       "         0.3908, -0.9536, -0.3709,  0.7139, -0.0964, -0.6284,  0.2954, -0.1972,\n",
       "        -0.0249, -0.6908, -0.4990, -0.9492,  0.5262,  0.1728,  0.0188,  0.1511,\n",
       "        -0.0662, -0.3019, -0.9887,  0.5284], requires_grad=True)"
      ]
     },
     "execution_count": 14,
     "metadata": {},
     "output_type": "execute_result"
    }
   ],
   "source": [
    "model.memory.time_enc.lin.bias"
   ]
  },
  {
   "cell_type": "code",
   "execution_count": 15,
   "metadata": {},
   "outputs": [
    {
     "data": {
      "text/plain": [
       "tensor(1.3867, grad_fn=<AddBackward0>)"
      ]
     },
     "execution_count": 15,
     "metadata": {},
     "output_type": "execute_result"
    }
   ],
   "source": [
    "batch = next(data.batches('train'))\n",
    "\n",
    "optim.zero_grad()\n",
    "loss = model(**batch)\n",
    "loss.backward()\n",
    "\n",
    "loss"
   ]
  },
  {
   "cell_type": "code",
   "execution_count": 17,
   "metadata": {},
   "outputs": [
    {
     "name": "stdout",
     "output_type": "stream",
     "text": [
      "memory.time_enc.lin.weight: val err = 0.000, grad err = 0.000\n",
      "memory.time_enc.lin.bias: val err = 0.003, grad err = 0.743\n",
      "memory.gru.weight_ih: val err = 0.055, grad err = 16.572\n",
      "memory.gru.weight_hh: val err = 0.000, grad err = 0.000\n",
      "memory.gru.bias_ih: val err = 0.005, grad err = 1.945\n",
      "memory.gru.bias_hh: val err = 0.005, grad err = 1.082\n",
      "gnn.conv.lin_key.weight: val err = 0.032, grad err = 5.144\n",
      "gnn.conv.lin_key.bias: val err = 0.003, grad err = 2.563\n",
      "gnn.conv.lin_query.weight: val err = 0.032, grad err = 14.122\n",
      "gnn.conv.lin_query.bias: val err = 0.003, grad err = 7.035\n",
      "gnn.conv.lin_value.weight: val err = 0.000, grad err = 0.000\n",
      "gnn.conv.lin_value.bias: val err = 0.000, grad err = 0.000\n",
      "gnn.conv.lin_edge.weight: val err = 0.032, grad err = 21.838\n",
      "gnn.conv.lin_skip.weight: val err = 0.031, grad err = 0.000\n",
      "gnn.conv.lin_skip.bias: val err = 0.003, grad err = 0.000\n",
      "link_predictor.lin_hid.weight: val err = 0.030, grad err = 0.000\n",
      "link_predictor.lin_hid.bias: val err = 0.002, grad err = 0.000\n",
      "link_predictor.lin_final.weight: val err = 0.002, grad err = 0.000\n",
      "link_predictor.lin_final.bias: val err = 0.000, grad err = 0.000\n"
     ]
    }
   ],
   "source": [
    "ipu_fin_params = pickle.load(open(\"/tmp/ipu_fin_params.pkl\", \"rb\"))\n",
    "ipu_gradients = pickle.load(open(\"/tmp/ipu_gradients.pkl\", \"rb\"))\n",
    "\n",
    "for name, cpu_val in model.named_parameters():\n",
    "    ipu_val = ipu_fin_params[name]\n",
    "    cpu_grad = eval(f\"model.{name}.grad\")\n",
    "    ipu_grad = ipu_gradients[name]\n",
    "    val_err = float(torch.norm(cpu_val - ipu_val))\n",
    "    grad_err = float(torch.norm(cpu_grad - ipu_grad))\n",
    "    print(f\"{name}: val err = {val_err:.3f}, grad err = {grad_err:.3f}\")\n"
   ]
  }
 ],
 "metadata": {
  "kernelspec": {
   "display_name": "Python 3.6.9 ('3.0.0-EA.1+1096_tf2')",
   "language": "python",
   "name": "python3"
  },
  "language_info": {
   "codemirror_mode": {
    "name": "ipython",
    "version": 3
   },
   "file_extension": ".py",
   "mimetype": "text/x-python",
   "name": "python",
   "nbconvert_exporter": "python",
   "pygments_lexer": "ipython3",
   "version": "3.6.9"
  },
  "vscode": {
   "interpreter": {
    "hash": "28a31b298b5cf82e7ec0025eec015e7dafd43029fa5251b52ec025705400dfdc"
   }
  }
 },
 "nbformat": 4,
 "nbformat_minor": 4
}
