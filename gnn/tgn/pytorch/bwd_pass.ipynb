{
 "cells": [
  {
   "cell_type": "markdown",
   "metadata": {},
   "source": [
    "Copyright (c) 2022 Graphcore Ltd. All rights reserved."
   ]
  },
  {
   "cell_type": "code",
   "execution_count": null,
   "metadata": {},
   "outputs": [],
   "source": [
    "from tgn_modules import TGN, Data\n",
    "import torch\n",
    "import poptorch\n",
    "from tqdm import tqdm\n",
    "import time\n",
    "\n",
    "data_path = 'data/JODIE'\n",
    "data = Data(data_path, torch.float32)\n",
    "run_on = 'IPU'\n",
    "\n",
    "memory_dim = time_dim = embedding_dim = 100\n",
    "raw_msg_dim = 172\n",
    "num_nodes = 9227\n",
    "\n",
    "tgn = TGN(\n",
    "    num_nodes,\n",
    "    raw_msg_dim,\n",
    "    memory_dim,\n",
    "    time_dim,\n",
    "    embedding_dim,\n",
    "    dtype=torch.float32,\n",
    ")\n",
    "\n",
    "tgn.train()\n",
    "\n",
    "if run_on == 'IPU':\n",
    "    optim = poptorch.optim.Adam(tgn.parameters(), lr=1e-4)\n",
    "    tgn = poptorch.trainingModel(tgn, optimizer=optim)\n",
    "else:\n",
    "    optim = torch.optim.Adam(tgn.parameters(), lr=1e-4)\n"
   ]
  },
  {
   "cell_type": "code",
   "execution_count": null,
   "metadata": {},
   "outputs": [],
   "source": [
    "\n",
    "losses = []\n",
    "n_batches = data.n_batches('train')\n",
    "\n",
    "for epoch in range(50):\n",
    "    print(f\"Epoch {epoch}\")\n",
    "    t0 = time.time()\n",
    "    for batch in data.batches('train'):\n",
    "        if run_on == 'IPU':\n",
    "            loss = tgn(**batch)\n",
    "        else:\n",
    "            optim.zero_grad()\n",
    "            loss = tgn(**batch)\n",
    "            loss.backward()\n",
    "            optim.step()\n",
    "\n",
    "        tgn.memory.detach()\n",
    "\n",
    "        losses.append(float(loss))\n",
    "    \n",
    "    dt = time.time() - t0\n",
    "    \n",
    "    avg_loss = sum(losses[-data.n_batches('train'):])/n_batches\n",
    "    print(f\"{epoch}: loss={float(avg_loss):.3f}, dt={dt:.3f}\")\n"
   ]
  }
 ],
 "metadata": {
  "kernelspec": {
   "display_name": "Python 3.6.9 ('3.0.0-EA.1+1096_tf2')",
   "language": "python",
   "name": "python3"
  },
  "language_info": {
   "codemirror_mode": {
    "name": "ipython",
    "version": 3
   },
   "file_extension": ".py",
   "mimetype": "text/x-python",
   "name": "python",
   "nbconvert_exporter": "python",
   "pygments_lexer": "ipython3",
   "version": "3.6.9"
  },
  "vscode": {
   "interpreter": {
    "hash": "28a31b298b5cf82e7ec0025eec015e7dafd43029fa5251b52ec025705400dfdc"
   }
  }
 },
 "nbformat": 4,
 "nbformat_minor": 4
}
